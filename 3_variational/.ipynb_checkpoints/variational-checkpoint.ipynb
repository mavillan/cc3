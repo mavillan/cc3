{
 "metadata": {
  "name": "",
  "signature": "sha256:98db9eb50bf1bab1e3d5f0351444172d381d01f18ecda2bd2edf4c4c5ea2b5f4"
 },
 "nbformat": 3,
 "nbformat_minor": 0,
 "worksheets": [
  {
   "cells": [
    {
     "cell_type": "markdown",
     "metadata": {},
     "source": [
      "## Problema: \n",
      "$$ \\min_{u} \\ J(u) =  \\int_{\\Omega}L(u,u_x,u_y,u_{xx},u_{yy}) \\ d\\Omega \\ \\ \\ \\ \\text{donde}$$\n",
      "$$ L(u,u_x,u_y,u_{xx},u_{yy}) = (u-f)^2 + \\alpha \\ \\Psi_1(|\\nabla u|^2) + \\beta \\  \\Psi_2((\\Delta u) ^2) $$"
     ]
    },
    {
     "cell_type": "markdown",
     "metadata": {},
     "source": [
      "#### Ecuaci\u00f3n de Euler-Lagrange a resolver: \n",
      "$$L_u - \\frac{\\partial}{\\partial x}L_{u_x}- \\frac{\\partial}{\\partial y} L_{u_y} + \\frac{\\partial^2}{\\partial x^2}L_{u_{xx}} + \\frac{\\partial^2}{\\partial y^2}L_{u_{yy}} = 0$$"
     ]
    },
    {
     "cell_type": "markdown",
     "metadata": {},
     "source": [
      "#### A continuaci\u00f3n un an\u00e1lisis detallado de sus t\u00e9rminos, "
     ]
    },
    {
     "cell_type": "markdown",
     "metadata": {},
     "source": [
      "(1):\n",
      "$$ L_{u} = 2(u-f)$$"
     ]
    },
    {
     "cell_type": "markdown",
     "metadata": {},
     "source": [
      "(2):\n",
      "$$\\frac{\\partial}{\\partial x}L_{u_x} = 2 \\alpha  \\left(2 u_x \\left(u_x u_{xx}+u_y u_{yx}\\right) \\Psi_1''\\left(u_x^2+u_y^2\\right)+u_{xx}\\Psi_1'\\left(u_x^2+u_y^2\\right)\\right)$$"
     ]
    },
    {
     "cell_type": "markdown",
     "metadata": {},
     "source": [
      "(3):\n",
      "$$\\frac{\\partial}{\\partial y} L_{u_y} = 2 \\alpha  \\left(2 u_y \\left(u_x u_{xx}+ u_y u_{yy}\\right) \\Psi_1''\\left(u_x^2+u_y^2\\right)+u_{yy} \\Psi_1'\\left(u_x^2+u_y^2\\right)\\right)$$"
     ]
    },
    {
     "cell_type": "markdown",
     "metadata": {},
     "source": [
      "(4):\n",
      "$$ \\frac{\\partial^2}{\\partial x^2} L_{u_{xx}} = 2 \\beta  \\left(4 \\left(u_{xxx}+u_{yyx}\\right) \\left(u_{xx} u_{xxx}+u_{yy} u_{yyx}\\right) \\Psi_2''\\left(u_{xx}^2+u_{yy}^2\\right)+\\left(u_{xxxx}+u_{yyxx}\\right) \\Psi_2'\\left(u_{xx}^2+u_{yy}^2\\right)+(u_{xx}+u_{yy}) \\left(4 \\left(u_{xx} u_{xxx}+ u_{yy} u_{yyx}\\right)^2 \\Psi_2^{(3)}\\left(u_{xx}^2+u_{yy}^2\\right)+2 \\left(u_{xxx}^2+u_{xx} u_{xxxx}+u_{yyx}^2+u_{yy} u_{yyxx}\\right) \\Psi_2''\\left(u_{xx}^2+u_{yy}^2\\right)\\right)\\right) $$"
     ]
    },
    {
     "cell_type": "markdown",
     "metadata": {},
     "source": [
      "(5):\n",
      "$$\\frac{\\partial^2}{\\partial y^2} L_{u_{yy}} = 2 \\beta  \\left(4 \\left(u_{xxy}+u_{yyy}\\right) \\left(u_{xx} u_{xxy}+u_{yy} u_{yyy}\\right) \\Psi_2''\\left(u_{xx}^2+u_{yy}^2\\right)+\\left(u_{xxyy}+u_{yyyy}\\right) \\Psi_2'\\left(u_{xx}^2+u_{yy}^2\\right)+(u_{xx}+u_{yy}) \\left(4 \\left(u_{xx} u_{xxy}+u_{yy} u_{yyy}\\right)^2 \\Psi_2^{(3)}\\left(u_{xx}^2+u_{yy}^2\\right)+2 \\left(u_{xxy}^2+u_{xx} u_{xxyy}+u_{yyy}^2+u_{yy} u_{yyyy}\\right) \\Psi_2''\\left(u_{xx}^2+u_{yy}^2\\right)\\right)\\right)$$"
     ]
    },
    {
     "cell_type": "code",
     "collapsed": false,
     "input": [
      "#import useful libraries\n",
      "%matplotlib inline\n",
      "import numpy as np\n",
      "import sympy as sp\n",
      "import matplotlib.pyplot as plt\n",
      "from scipy import misc\n",
      "from scipy.integrate import odeint\n",
      "from concurrent.futures import ProcessPoolExecutor"
     ],
     "language": "python",
     "metadata": {},
     "outputs": [],
     "prompt_number": 21
    },
    {
     "cell_type": "code",
     "collapsed": false,
     "input": [
      "#set of parameters alpha and beta\n",
      "a = 1.\n",
      "b = 1.\n",
      "N = 50\n",
      "\n",
      "#definition of Psi functions\n",
      "z = sp.Symbol('z')\n",
      "psi1 = z\n",
      "psi2 = z\n",
      "\n",
      "#derivatives and lamdify of Psi1\n",
      "d1psi1 = sp.diff(psi1,z)\n",
      "d2psi1 = sp.diff(d1psi1,z)\n",
      "d1psi1 = sp.lambdify(z, d1psi1, modules='numpy')\n",
      "d2psi1 = sp.lambdify(z, d2psi1, modules='numpy')\n",
      "\n",
      "#derivatives and lamdify of Psi2\n",
      "d1psi2 = sp.diff(psi2,z)\n",
      "d2psi2 = sp.diff(d1psi2,z)\n",
      "d3psi2 = sp.diff(d2psi2,z)\n",
      "d1psi2 = sp.lambdify(z, d1psi2, modules='numpy')\n",
      "d2psi2 = sp.lambdify(z, d2psi2, modules='numpy')\n",
      "d3psi2 = sp.lambdify(z, d3psi2, modules='numpy')"
     ],
     "language": "python",
     "metadata": {},
     "outputs": [],
     "prompt_number": 22
    },
    {
     "cell_type": "code",
     "collapsed": false,
     "input": [
      "#load of image\n",
      "f = misc.imread('data50.png').astype(np.float).ravel()"
     ],
     "language": "python",
     "metadata": {},
     "outputs": [],
     "prompt_number": 23
    },
    {
     "cell_type": "code",
     "collapsed": false,
     "input": [
      "#load matrices\n",
      "phi_m = np.load('phi_m.npy')\n",
      "phix_m = np.load('phix_m.npy')\n",
      "phiy_m = np.load('phiy_m.npy')\n",
      "phixx_m = np.load('phixx_m.npy')\n",
      "phixy_m = np.load('phixy_m.npy')\n",
      "#phiyx_m = np.empty((N**2,N**2)) \n",
      "phiyy_m = np.load('phiyy_m.npy')\n",
      "phixxx_m = np.load('phixxx_m.npy')\n",
      "phixxy_m = np.load('phixxy_m.npy')\n",
      "phiyyx_m = np.load('phiyyx_m.npy')\n",
      "phiyyy_m = np.load('phiyyy_m.npy')\n",
      "phixxxx_m = np.load('phixxxx_m.npy')\n",
      "phixxyy_m = np.load('phixxyy_m.npy')\n",
      "phiyyxx_m = np.load('phiyyxx_m.npy')\n",
      "phiyyyy_m = np.load('phiyyyy_m.npy')"
     ],
     "language": "python",
     "metadata": {},
     "outputs": [],
     "prompt_number": 24
    },
    {
     "cell_type": "code",
     "collapsed": false,
     "input": [
      "# solve the system dc/dt = F(c, t)\n",
      "def F(c,t):\n",
      "    u = np.dot(phi_m, c)\n",
      "    ux = np.dot(phix_m, c)\n",
      "    uy = np.dot(phiy_m, c)\n",
      "    uxx = np.dot(phixx_m, c)\n",
      "    uxy = np.dot(phixy_m, c)\n",
      "    uyx = uxy\n",
      "    uyy = np.dot(phiyy_m, c)\n",
      "    uxxx = np.dot(phixxx_m, c)\n",
      "    uxxy = np.dot(phixxy_m, c)\n",
      "    uyyx = np.dot(phiyyx_m, c)\n",
      "    uyyy = np.dot(phiyyy_m, c)\n",
      "    uxxxx = np.dot(phixxxx_m, c)\n",
      "    uxxyy = np.dot(phixxyy_m, c)\n",
      "    uyyxx = np.dot(phiyyxx_m, c)\n",
      "    uyyyy = np.dot(phiyyyy_m, c)\n",
      "    \n",
      "    #computation of recurrent expresions are indicated with _tmpx\n",
      "    \n",
      "    #first term\n",
      "    EL1 = 2*(u-f)\n",
      "    \n",
      "    #second and third term\n",
      "    _tmp1 = ux**2 + uy**2\n",
      "    _tmp2 = ux*uxx\n",
      "    _tmp3 = d1psi1(_tmp1)\n",
      "    _tmp4 = d2psi1(_tmp1)\n",
      "    EL2 = 2*a*(2*ux*(_tmp2 + uy*uyx)*_tmp4 + uxx*_tmp3)\n",
      "    EL3 = 2*a*(2*uy*(_tmp2 + uy*uyy)*_tmp4 + uyy*_tmp3)\n",
      "               \n",
      "    #last terms\n",
      "    _tmp5 = d1psi2(_tmp1)\n",
      "    _tmp6 = d2psi2(_tmp1)\n",
      "    _tmp7 = d3psi2(_tmp1)\n",
      "    _tmp8 = uxx + uyy\n",
      "    EL4 = 2*b*(4*(uxxx + uyyx)*(uxx*uxxx + uyy*uyyx)*_tmp6 + (uxxxx + uyyxx)*_tmp5 + _tmp8*(4*(uxx*uxxx + uyy*uyyx)**2 *_tmp7 \n",
      "        + 2*(uxxx**2 + uxx*uxxxx + uyyx**2 + uyy*uyyxx)*_tmp6))\n",
      "    EL5 = 2*b*(4*(uxxy + uyyy)*(uxx*uxxy + uyy*uyyy)*_tmp6 + (uxxyy + uyyyy)*_tmp5 + _tmp8*(4*(uxx*uxxy + uyy*uyyy)**2 *_tmp7 \n",
      "        + 2*(uxxy**2 + uxx*uxxyy + uyyy**2 + uyy*uyyyy)*_tmp6))\n",
      "    \n",
      "    return EL1 + EL2 + EL3 + EL4 + EL5"
     ],
     "language": "python",
     "metadata": {},
     "outputs": [],
     "prompt_number": 25
    },
    {
     "cell_type": "code",
     "collapsed": false,
     "input": [
      "# solve the system dc/dt = F(c, t)\n",
      "def enh_F(c,t):\n",
      "    with ProcessPoolExecutor(max_workers=2) as executor:\n",
      "        u = executor.submit(np.dot, phi_m, c)\n",
      "        ux = executor.submit(np.dot, phix_m, c)\n",
      "        uy = executor.submit(np.dot, phiy_m, c)\n",
      "        uxx = executor.submit(np.dot, phixx_m, c)\n",
      "        uxy = executor.submit(np.dot, phixy_m, c)\n",
      "        uyy = executor.submit(np.dot, phiyy_m, c)\n",
      "        uxxx = executor.submit(np.dot, phixxx_m, c)\n",
      "        uxxy = executor.submit(np.dot, phixxy_m, c)\n",
      "        uyyx = executor.submit(np.dot, phiyyx_m, c)\n",
      "        uyyy = executor.submit(np.dot, phiyyy_m, c)\n",
      "        uxxxx = executor.submit(np.dot, phixxxx_m, c)\n",
      "        uxxyy = executor.submit(np.dot, phixxyy_m, c)\n",
      "        uyyxx = executor.submit(np.dot, phiyyxx_m, c)\n",
      "        uyyyy = executor.submit(np.dot, phiyyyy_m, c)\n",
      "    u = u.result()\n",
      "    ux = ux.result()\n",
      "    uy = uy.result()\n",
      "    uxx = uxx.result()\n",
      "    uxy = uxy.result()\n",
      "    uyy = uyy.result()\n",
      "    uxxx = uxxx.result()\n",
      "    uxxy = uxxy.result()\n",
      "    uyyx = uyyx.result()\n",
      "    uyyy = uyyy.result()\n",
      "    uxxxx = uxxxx.result()\n",
      "    uxxyy = uxxyy.result()\n",
      "    uyyxx = uyyxx.result()\n",
      "    uyyyy = uyyyy.result()\n",
      "    uyx = uxy\n",
      "    \n",
      "    #computation of recurrent expresions are indicated with _tmpx\n",
      "    \n",
      "    #first term\n",
      "    EL1 = 2*(u-f)\n",
      "    \n",
      "    #second and third term\n",
      "    _tmp1 = ux**2 + uy**2\n",
      "    _tmp2 = ux*uxx\n",
      "    _tmp3 = d1psi1(_tmp1)\n",
      "    _tmp4 = d2psi1(_tmp1)\n",
      "    EL2 = 2*a*(2*ux*(_tmp2 + uy*uyx)*_tmp4 + uxx*_tmp3)\n",
      "    EL3 = 2*a*(2*uy*(_tmp2 + uy*uyy)*_tmp4 + uyy*_tmp3)\n",
      "               \n",
      "    #last terms\n",
      "    _tmp5 = d1psi2(_tmp1)\n",
      "    _tmp6 = d2psi2(_tmp1)\n",
      "    _tmp7 = d3psi2(_tmp1)\n",
      "    _tmp8 = uxx + uyy\n",
      "    EL4 = 2*b*(4*(uxxx + uyyx)*(uxx*uxxx + uyy*uyyx)*_tmp6 + (uxxxx + uyyxx)*_tmp5 + _tmp8*(4*(uxx*uxxx + uyy*uyyx)**2 *_tmp7 \n",
      "        + 2*(uxxx**2 + uxx*uxxxx + uyyx**2 + uyy*uyyxx)*_tmp6))\n",
      "    EL5 = 2*b*(4*(uxxy + uyyy)*(uxx*uxxy + uyy*uyyy)*_tmp6 + (uxxyy + uyyyy)*_tmp5 + _tmp8*(4*(uxx*uxxy + uyy*uyyy)**2 *_tmp7 \n",
      "        + 2*(uxxy**2 + uxx*uxxyy + uyyy**2 + uyy*uyyyy)*_tmp6))\n",
      "    \n",
      "    return EL1 + EL2 + EL3 + EL4 + EL5"
     ],
     "language": "python",
     "metadata": {},
     "outputs": [],
     "prompt_number": 6
    },
    {
     "cell_type": "code",
     "collapsed": false,
     "input": [
      "c = np.random.random(2500)\n",
      "%timeit F(c,0)"
     ],
     "language": "python",
     "metadata": {},
     "outputs": [
      {
       "output_type": "stream",
       "stream": "stdout",
       "text": [
        "10 loops, best of 3: 135 ms per loop\n"
       ]
      }
     ],
     "prompt_number": 26
    },
    {
     "cell_type": "code",
     "collapsed": false,
     "input": [
      "%timeit enh_F(c,0)"
     ],
     "language": "python",
     "metadata": {},
     "outputs": [
      {
       "output_type": "stream",
       "stream": "stdout",
       "text": [
        "1 loops, best of 3: 1.9 s per loop\n"
       ]
      }
     ],
     "prompt_number": 8
    },
    {
     "cell_type": "code",
     "collapsed": false,
     "input": [
      "# initial condition vector\n",
      "c0 = np.ones(N**2)\n",
      "\n",
      "# time grid\n",
      "t  = np.linspace(0., .5, 100)\n",
      "\n",
      "#solve it!\n",
      "nsol,info = odeint(F, c0, t, full_output=1)"
     ],
     "language": "python",
     "metadata": {},
     "outputs": [
      {
       "output_type": "stream",
       "stream": "stdout",
       "text": [
        "Excess work done on this call (perhaps wrong Dfun type).\n",
        "Run with full_output = 1 to get quantitative information.\n"
       ]
      }
     ],
     "prompt_number": 12
    },
    {
     "cell_type": "code",
     "collapsed": false,
     "input": [
      "print info"
     ],
     "language": "python",
     "metadata": {},
     "outputs": [
      {
       "output_type": "stream",
       "stream": "stdout",
       "text": [
        "{'nfe': array([1060,    0,    0,    0,    0,    0,    0,    0,    0,    0,    0,\n",
        "          0,    0,    0,    0,    0,    0,    0,    0,    0,    0,    0,\n",
        "          0,    0,    0,    0,    0,    0,    0,    0,    0,    0,    0,\n",
        "          0,    0,    0,    0,    0,    0,    0,    0,    0,    0,    0,\n",
        "          0,    0,    0,    0,    0,    0,    0,    0,    0,    0,    0,\n",
        "          0,    0,    0,    0,    0,    0,    0,    0,    0,    0,    0,\n",
        "          0,    0,    0,    0,    0,    0,    0,    0,    0,    0,    0,\n",
        "          0,    0,    0,    0,    0,    0,    0,    0,    0,    0,    0,\n",
        "          0,    0,    0,    0,    0,    0,    0,    0,    0,    0,    0], dtype=int32), 'nje': array([          0,       32570, -1332597496,       32570,         105,\n",
        "               116,         105,          97,         108,          32,\n",
        "                99,         111,         110,         100,         105,\n",
        "               116,         105,         111,         110,          32,\n",
        "               118,         101,          99,         116,         111,\n",
        "               114,          10,          99,          48,          32,\n",
        "                61,          32,         110,         112,          46,\n",
        "               111,         110,         101,         115,          40,\n",
        "                78,          42,          42,          50,          41,\n",
        "                10,          10,          35,          32,         116,\n",
        "               105,         109,         101,          32,         103,\n",
        "               114,         105,         100,          10,         116,\n",
        "                32,          32,          61,          32,         110,\n",
        "               112,          46,         108,         105,         110,\n",
        "               115,         112,          97,          99,         101,\n",
        "                40,          48,          46,          44,          32,\n",
        "                46,          53,          44,          32,          49,\n",
        "                48,          48,          41,          10,          10,\n",
        "                35,         115,         111,         108,         118,\n",
        "               101,          32,         105,         116], dtype=int32), 'tolsf': array([  0.00000000e+000,   6.91148665e-310,               nan,\n",
        "         6.91148026e-310,   0.00000000e+000,   6.91148731e-310,\n",
        "         1.03753786e-322,   6.91147073e-310,   6.91144420e-310,\n",
        "         6.91148743e-310,   6.91147346e-310,   0.00000000e+000,\n",
        "         2.53372634e-316,   0.00000000e+000,   0.00000000e+000,\n",
        "         0.00000000e+000,   0.00000000e+000,   0.00000000e+000,\n",
        "         1.24154665e-316,   1.06099790e-313,   2.56761491e-312,\n",
        "         4.10074486e-322,   0.00000000e+000,   0.00000000e+000,\n",
        "         0.00000000e+000,   0.00000000e+000,   0.00000000e+000,\n",
        "         3.79936482e-321,   6.91148665e-310,   2.53351883e-316,\n",
        "         2.49487143e-316,   1.17960954e-307,   6.91144809e-310,\n",
        "         2.49486906e-316,  -1.24668239e+043,   6.91144406e-310,\n",
        "         2.49486788e-316,   6.45054047e-314,   6.91148741e-310,\n",
        "         2.49486432e-316,   0.00000000e+000,   3.24601129e-321,\n",
        "         6.91148665e-310,   6.91148665e-310,   0.00000000e+000,\n",
        "         0.00000000e+000,   0.00000000e+000,   0.00000000e+000,\n",
        "         0.00000000e+000,  -1.24668239e+043,   6.91144406e-310,\n",
        "         6.91148731e-310,   2.53060780e-316,   2.53060424e-316,\n",
        "         1.24649205e-316,   0.00000000e+000,   0.00000000e+000,\n",
        "         0.00000000e+000,   0.00000000e+000,   0.00000000e+000,\n",
        "         0.00000000e+000,   0.00000000e+000,   0.00000000e+000,\n",
        "         2.54917873e-316,   6.91144405e-310,   6.91148731e-310,\n",
        "         6.91148731e-310,   6.91148731e-310,   6.91146972e-310,\n",
        "         6.91146973e-310,   6.91148734e-310,   6.91148731e-310,\n",
        "         0.00000000e+000,   1.98120324e-321,   6.91148665e-310,\n",
        "         6.91148665e-310,   0.00000000e+000,  -7.63277803e+283,\n",
        "         6.91148741e-310,   6.91148731e-310,   0.00000000e+000,\n",
        "         0.00000000e+000,   0.00000000e+000,   0.00000000e+000,\n",
        "         0.00000000e+000,   0.00000000e+000,   1.65169957e-220,\n",
        "         6.91148742e-310,   6.91146960e-310,  -3.39981117e-158,\n",
        "         6.91146972e-310,   6.91144419e-310,   5.41141341e-041,\n",
        "         6.91146973e-310,   6.91144419e-310,   0.00000000e+000,\n",
        "         0.00000000e+000,   0.00000000e+000,  -3.67112871e-197]), 'nqu': array([          7,       32570, -1332597896,       32570,           0,\n",
        "                 0,           0,           0,           0,           0,\n",
        "                 0,           0,           0,           0,           0,\n",
        "                 0,           0,           0,           0,           0,\n",
        "                 0,           0,           0,           0,           0,\n",
        "                 0,           0,           0,           0,           0,\n",
        "                 0,           0,           0,           0,           0,\n",
        "                 0,           0,           0,           0,           0,\n",
        "                 0,           0,           0,           0,  1956184200,\n",
        "       -1628228551,  2100527688,       32570,    25227624,           0,\n",
        "                 0,           0,           0,           0,           0,\n",
        "                 0, -1850359734,   664307589,  2100497224,       32570,\n",
        "          25227696,           0,           0,           0,           0,\n",
        "                 0,           0,           0,           0,           0,\n",
        "                 0,           0,           0,           0,           0,\n",
        "                 0,           0,           0,           0,           0,\n",
        "                 0,           0,           0,           0,           0,\n",
        "                 0,           0,           0,           0,           0,\n",
        "                 0,           0,           0,           0,           0,\n",
        "                 0,           0,           0,           0], dtype=int32), 'lenrw': 6272522, 'tcur': array([  2.61167165e-07,   0.00000000e+00,   0.00000000e+00,\n",
        "         0.00000000e+00,   0.00000000e+00,   0.00000000e+00,\n",
        "         0.00000000e+00,   0.00000000e+00,   0.00000000e+00,\n",
        "         0.00000000e+00,   0.00000000e+00,   0.00000000e+00,\n",
        "         0.00000000e+00,   0.00000000e+00,   0.00000000e+00,\n",
        "         0.00000000e+00,   0.00000000e+00,   0.00000000e+00,\n",
        "         0.00000000e+00,   0.00000000e+00,   0.00000000e+00,\n",
        "         0.00000000e+00,   0.00000000e+00,   0.00000000e+00,\n",
        "         0.00000000e+00,   0.00000000e+00,   0.00000000e+00,\n",
        "         0.00000000e+00,   0.00000000e+00,   0.00000000e+00,\n",
        "         0.00000000e+00,   0.00000000e+00,   0.00000000e+00,\n",
        "         0.00000000e+00,   0.00000000e+00,   0.00000000e+00,\n",
        "         0.00000000e+00,   0.00000000e+00,   0.00000000e+00,\n",
        "         0.00000000e+00,   0.00000000e+00,   0.00000000e+00,\n",
        "         0.00000000e+00,   0.00000000e+00,   0.00000000e+00,\n",
        "         0.00000000e+00,   0.00000000e+00,   0.00000000e+00,\n",
        "         0.00000000e+00,   0.00000000e+00,   0.00000000e+00,\n",
        "         0.00000000e+00,   0.00000000e+00,   0.00000000e+00,\n",
        "         0.00000000e+00,   0.00000000e+00,   0.00000000e+00,\n",
        "         0.00000000e+00,   0.00000000e+00,   0.00000000e+00,\n",
        "         0.00000000e+00,   0.00000000e+00,   0.00000000e+00,\n",
        "         0.00000000e+00,   0.00000000e+00,   0.00000000e+00,\n",
        "         0.00000000e+00,   0.00000000e+00,   0.00000000e+00,\n",
        "         0.00000000e+00,   0.00000000e+00,   0.00000000e+00,\n",
        "         0.00000000e+00,   0.00000000e+00,   0.00000000e+00,\n",
        "         0.00000000e+00,   0.00000000e+00,   0.00000000e+00,\n",
        "         0.00000000e+00,   0.00000000e+00,   0.00000000e+00,\n",
        "         0.00000000e+00,   0.00000000e+00,   0.00000000e+00,\n",
        "         0.00000000e+00,   0.00000000e+00,   0.00000000e+00,\n",
        "         0.00000000e+00,   0.00000000e+00,   0.00000000e+00,\n",
        "         0.00000000e+00,   0.00000000e+00,   0.00000000e+00,\n",
        "         0.00000000e+00,   0.00000000e+00,   0.00000000e+00,\n",
        "         0.00000000e+00,   0.00000000e+00,   0.00000000e+00]), 'hu': array([  4.78016364e-10,   0.00000000e+00,   0.00000000e+00,\n",
        "         0.00000000e+00,   0.00000000e+00,   0.00000000e+00,\n",
        "         0.00000000e+00,   0.00000000e+00,   0.00000000e+00,\n",
        "         0.00000000e+00,   0.00000000e+00,   0.00000000e+00,\n",
        "         0.00000000e+00,   0.00000000e+00,   0.00000000e+00,\n",
        "         0.00000000e+00,   0.00000000e+00,   0.00000000e+00,\n",
        "         0.00000000e+00,   0.00000000e+00,   0.00000000e+00,\n",
        "         0.00000000e+00,   0.00000000e+00,   0.00000000e+00,\n",
        "         0.00000000e+00,   0.00000000e+00,   0.00000000e+00,\n",
        "         0.00000000e+00,   0.00000000e+00,   0.00000000e+00,\n",
        "         0.00000000e+00,   0.00000000e+00,   0.00000000e+00,\n",
        "         0.00000000e+00,   0.00000000e+00,   0.00000000e+00,\n",
        "         0.00000000e+00,   0.00000000e+00,   0.00000000e+00,\n",
        "         0.00000000e+00,   0.00000000e+00,   0.00000000e+00,\n",
        "         0.00000000e+00,   0.00000000e+00,   0.00000000e+00,\n",
        "         0.00000000e+00,   0.00000000e+00,   0.00000000e+00,\n",
        "         0.00000000e+00,   0.00000000e+00,   0.00000000e+00,\n",
        "         0.00000000e+00,   0.00000000e+00,   0.00000000e+00,\n",
        "         0.00000000e+00,   0.00000000e+00,   0.00000000e+00,\n",
        "         0.00000000e+00,   0.00000000e+00,   0.00000000e+00,\n",
        "         0.00000000e+00,   0.00000000e+00,   0.00000000e+00,\n",
        "         0.00000000e+00,   0.00000000e+00,   0.00000000e+00,\n",
        "         0.00000000e+00,   0.00000000e+00,   0.00000000e+00,\n",
        "         0.00000000e+00,   0.00000000e+00,   0.00000000e+00,\n",
        "         0.00000000e+00,   0.00000000e+00,   0.00000000e+00,\n",
        "         0.00000000e+00,   0.00000000e+00,   0.00000000e+00,\n",
        "         0.00000000e+00,   0.00000000e+00,   0.00000000e+00,\n",
        "         0.00000000e+00,   0.00000000e+00,   0.00000000e+00,\n",
        "         0.00000000e+00,   0.00000000e+00,   0.00000000e+00,\n",
        "         0.00000000e+00,   0.00000000e+00,   0.00000000e+00,\n",
        "         0.00000000e+00,   0.00000000e+00,   0.00000000e+00,\n",
        "         0.00000000e+00,   0.00000000e+00,   0.00000000e+00,\n",
        "         0.00000000e+00,   0.00000000e+00,   0.00000000e+00]), 'imxer': -1, 'leniw': 2520, 'tsw': array([  0.00000000e+000,   6.91148665e-310,   2.54895186e-316,\n",
        "         2.54895186e-316,   0.00000000e+000,   0.00000000e+000,\n",
        "         0.00000000e+000,   0.00000000e+000,   0.00000000e+000,\n",
        "         0.00000000e+000,   0.00000000e+000,   0.00000000e+000,\n",
        "        -1.16423221e+030,   6.91144421e-310,   2.49486432e-316,\n",
        "         0.00000000e+000,   0.00000000e+000,   0.00000000e+000,\n",
        "         0.00000000e+000,   0.00000000e+000,   0.00000000e+000,\n",
        "         4.42684150e-314,   6.91148739e-310,   2.49486313e-316,\n",
        "         0.00000000e+000,   0.00000000e+000,   0.00000000e+000,\n",
        "         0.00000000e+000,   0.00000000e+000,   0.00000000e+000,\n",
        "         0.00000000e+000,   0.00000000e+000,   0.00000000e+000,\n",
        "         0.00000000e+000,   0.00000000e+000,   0.00000000e+000,\n",
        "         0.00000000e+000,   0.00000000e+000,   0.00000000e+000,\n",
        "         0.00000000e+000,   0.00000000e+000,   0.00000000e+000,\n",
        "         0.00000000e+000,   0.00000000e+000,   0.00000000e+000,\n",
        "         0.00000000e+000,   0.00000000e+000,   0.00000000e+000,\n",
        "         0.00000000e+000,   0.00000000e+000,   0.00000000e+000,\n",
        "         0.00000000e+000,   0.00000000e+000,   0.00000000e+000,\n",
        "         0.00000000e+000,   0.00000000e+000,   0.00000000e+000,\n",
        "         0.00000000e+000,   0.00000000e+000,   0.00000000e+000,\n",
        "         0.00000000e+000,   0.00000000e+000,   0.00000000e+000,\n",
        "         7.33590877e-314,   6.91148741e-310,   2.49487262e-316,\n",
        "         0.00000000e+000,   0.00000000e+000,   0.00000000e+000,\n",
        "         1.07253490e-001,   6.91147073e-310,   2.49487618e-316,\n",
        "         0.00000000e+000,   0.00000000e+000,   0.00000000e+000,\n",
        "         0.00000000e+000,   0.00000000e+000,   0.00000000e+000,\n",
        "         0.00000000e+000,   0.00000000e+000,   0.00000000e+000,\n",
        "         8.07152724e-308,   6.91145078e-310,   2.49486788e-316,\n",
        "         0.00000000e+000,   0.00000000e+000,   0.00000000e+000,\n",
        "         0.00000000e+000,   0.00000000e+000,   0.00000000e+000,\n",
        "         0.00000000e+000,   0.00000000e+000,   0.00000000e+000,\n",
        "         0.00000000e+000,   0.00000000e+000,   0.00000000e+000,\n",
        "         0.00000000e+000,   3.87841532e-321,   2.23654822e-316]), 'message': 'Excess work done on this call (perhaps wrong Dfun type).', 'nst': array([500,   0,   0,   0,   0,   0,   0,   0,   0,   0,   0,   0,   0,\n",
        "         0,   0,   0,   0,   0,   0,   0,   0,   0,   0,   0,   0,   0,\n",
        "         0,   0,   0,   0,   0,   0,   0,   0,   0,   0,   0,   0,   0,\n",
        "         0,   0,   0,   0,   0,   0,   0,   0,   0,   0,   0,   0,   0,\n",
        "         0,   0,   0,   0,   0,   0,   0,   0,   0,   0,   0,   0,   0,\n",
        "         0,   0,   0,   0,   0,   0,   0,   0,   0,   0,   0,   0,   0,\n",
        "         0,   0,   0,   0,   0,   0,   0,   0,   0,   0,   0,   0,   0,\n",
        "         0,   0,   0,   0,   0,   0,   0,   0], dtype=int32), 'mused': array([          1,       32570, -1332597896,       32570,           0,\n",
        "                 0,           0,           0,           0,           0,\n",
        "                 0,           0,           0,           0,           0,\n",
        "                 0,           0,           0, -1817039435,  1848291074,\n",
        "        2100497440,       32570,    25227600,           0,           0,\n",
        "                 0,           0,           0,           0,           0,\n",
        "                 0,           0,           0,           0,           0,\n",
        "                 0,           0,           0,           0,           0,\n",
        "                 0,           0,           0,           0,           0,\n",
        "                 0,           0,           0,  2109574874,  2111760817,\n",
        "        2115030408,       32570,    25227672,           0,           0,\n",
        "                 0,           0,           0,           0,           0,\n",
        "                 0,           0,           0,           0,           0,\n",
        "                 0,           0,           0,           0,           0,\n",
        "                 0,           0,  1669285726, -1712193205,  2100527544,\n",
        "             32570,    25227648,           0,           0,           0,\n",
        "                 0,           0,           0,           0,        1568,\n",
        "                 0,          48,           0,           0,           0,\n",
        "            222464,  1677721700,    58916865,      154625,  1509950554,\n",
        "          40108037,   808473344,   808463205,         593], dtype=int32)}\n"
       ]
      }
     ],
     "prompt_number": 13
    },
    {
     "cell_type": "code",
     "collapsed": false,
     "input": [
      "csol = nsol[-1,:]\n",
      "print np.sum(csol)\n",
      "print nsol\n",
      "print csol"
     ],
     "language": "python",
     "metadata": {},
     "outputs": [
      {
       "output_type": "stream",
       "stream": "stdout",
       "text": [
        "0.0\n",
        "[[  0.00000000e+00   0.00000000e+00   0.00000000e+00 ...,   0.00000000e+00\n",
        "    0.00000000e+00   0.00000000e+00]\n",
        " [  9.47796997e+13   2.52832309e+13  -1.30949821e+14 ...,  -1.84461353e+14\n",
        "    1.76889041e+13   1.31281036e+14]\n",
        " [  0.00000000e+00   0.00000000e+00   0.00000000e+00 ...,   0.00000000e+00\n",
        "    0.00000000e+00   0.00000000e+00]\n",
        " ..., \n",
        " [  0.00000000e+00   0.00000000e+00   0.00000000e+00 ...,   0.00000000e+00\n",
        "    0.00000000e+00   0.00000000e+00]\n",
        " [  0.00000000e+00   0.00000000e+00   0.00000000e+00 ...,   0.00000000e+00\n",
        "    0.00000000e+00   0.00000000e+00]\n",
        " [  0.00000000e+00   0.00000000e+00   0.00000000e+00 ...,   0.00000000e+00\n",
        "    0.00000000e+00   0.00000000e+00]]\n",
        "[ 0.  0.  0. ...,  0.  0.  0.]\n"
       ]
      }
     ],
     "prompt_number": 9
    },
    {
     "cell_type": "code",
     "collapsed": false,
     "input": [
      "#plot of new image\n",
      "new_img = np.dot(phi_m, csol)\n",
      "new_img = new_img.reshape((N,N))\n",
      "new_img = new_img.astype(np.uint8)\n",
      "plt.axis('off')\n",
      "plt.imshow(new_img)\n",
      "plt.show()"
     ],
     "language": "python",
     "metadata": {},
     "outputs": [
      {
       "metadata": {},
       "output_type": "display_data",
       "png": "[encoded data removed]",
       "text": [
        "<matplotlib.figure.Figure at 0x7f3992f8abd0>"
       ]
      }
     ],
     "prompt_number": 13
    },
    {
     "cell_type": "code",
     "collapsed": false,
     "input": [],
     "language": "python",
     "metadata": {},
     "outputs": []
    }
   ],
   "metadata": {}
  }
 ]
}