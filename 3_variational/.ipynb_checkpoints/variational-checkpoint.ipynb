{
 "metadata": {
  "name": "",
  "signature": "sha256:af2ffabdb536dd549171195db39ba43a517e588d4b8046f134e4512c4ec5eef4"
 },
 "nbformat": 3,
 "nbformat_minor": 0,
 "worksheets": [
  {
   "cells": [
    {
     "cell_type": "markdown",
     "metadata": {},
     "source": [
      "## Problema: \n",
      "$$ \\min_{u} \\ J(u) =  \\int_{\\Omega}L(u,u_x,u_y,u_{xx},u_{yy}) \\ d\\Omega \\ \\ \\ \\ \\text{donde}$$\n",
      "$$ L(u,u_x,u_y,u_{xx},u_{yy}) = (u-f)^2 + \\alpha \\ \\Psi_1(|\\nabla u|^2) + \\beta \\  \\Psi_2((\\Delta u) ^2) $$"
     ]
    },
    {
     "cell_type": "markdown",
     "metadata": {},
     "source": [
      "#### Ecuaci\u00f3n de Euler-Lagrange a resolver: \n",
      "$$L_u - \\frac{\\partial}{\\partial x}L_{u_x}- \\frac{\\partial}{\\partial y} L_{u_y} + \\frac{\\partial^2}{\\partial x^2}L_{u_{xx}} + \\frac{\\partial^2}{\\partial y^2}L_{u_{yy}} = 0$$"
     ]
    },
    {
     "cell_type": "markdown",
     "metadata": {},
     "source": [
      "#### A continuaci\u00f3n un an\u00e1lisis detallado de sus t\u00e9rminos, "
     ]
    },
    {
     "cell_type": "markdown",
     "metadata": {},
     "source": [
      "(1):\n",
      "$$ L_{u} = 2(u-f)$$"
     ]
    },
    {
     "cell_type": "markdown",
     "metadata": {},
     "source": [
      "(2):\n",
      "$$\\frac{\\partial}{\\partial x}L_{u_x} = 2 \\alpha  \\left(2 u_x \\left(u_x u_{xx}+u_y u_{yx}\\right) \\Psi_1''\\left(u_x^2+u_y^2\\right)+u_{xx}\\Psi_1'\\left(u_x^2+u_y^2\\right)\\right)$$"
     ]
    },
    {
     "cell_type": "markdown",
     "metadata": {},
     "source": [
      "(3):\n",
      "$$\\frac{\\partial}{\\partial y} L_{u_y} = 2 \\alpha  \\left(2 u_y \\left(u_x u_{xx}+ u_y u_{yy}\\right) \\Psi_1''\\left(u_x^2+u_y^2\\right)+u_{yy} \\Psi_1'\\left(u_x^2+u_y^2\\right)\\right)$$"
     ]
    },
    {
     "cell_type": "markdown",
     "metadata": {},
     "source": [
      "(4):\n",
      "$$ \\frac{\\partial^2}{\\partial x^2} L_{u_{xx}} = 2 \\beta  \\left(4 \\left(u_{xxx}+u_{yyx}\\right) \\left(u_{xx} u_{xxx}+u_{yy} u_{yyx}\\right) \\Psi_2''\\left(u_{xx}^2+u_{yy}^2\\right)+\\left(u_{xxxx}+u_{yyxx}\\right) \\Psi_2'\\left(u_{xx}^2+u_{yy}^2\\right)+(u_{xx}+u_{yy}) \\left(4 \\left(u_{xx} u_{xxx}+ u_{yy} u_{yyx}\\right)^2 \\Psi_2^{(3)}\\left(u_{xx}^2+u_{yy}^2\\right)+2 \\left(u_{xxx}^2+u_{xx} u_{xxxx}+u_{yyx}^2+u_{yy} u_{yyxx}\\right) \\Psi_2''\\left(u_{xx}^2+u_{yy}^2\\right)\\right)\\right) $$"
     ]
    },
    {
     "cell_type": "markdown",
     "metadata": {},
     "source": [
      "(5):\n",
      "$$\\frac{\\partial^2}{\\partial y^2} L_{u_{yy}} = 2 \\beta  \\left(4 \\left(u_{xxy}+u_{yyy}\\right) \\left(u_{xx} u_{xxy}+u_{yy} u_{yyy}\\right) \\Psi_2''\\left(u_{xx}^2+u_{yy}^2\\right)+\\left(u_{xxyy}+u_{yyyy}\\right) \\Psi_2'\\left(u_{xx}^2+u_{yy}^2\\right)+(u_{xx}+u_{yy}) \\left(4 \\left(u_{xx} u_{xxy}+u_{yy} u_{yyy}\\right)^2 \\Psi_2^{(3)}\\left(u_{xx}^2+u_{yy}^2\\right)+2 \\left(u_{xxy}^2+u_{xx} u_{xxyy}+u_{yyy}^2+u_{yy} u_{yyyy}\\right) \\Psi_2''\\left(u_{xx}^2+u_{yy}^2\\right)\\right)\\right)$$"
     ]
    },
    {
     "cell_type": "code",
     "collapsed": false,
     "input": [
      "#import useful libraries\n",
      "%matplotlib inline\n",
      "import numpy as np\n",
      "import sympy as sp\n",
      "import matplotlib.pyplot as plt\n",
      "from scipy import misc\n",
      "from scipy.integrate import odeint\n",
      "from scipy.optimize import fsolve "
     ],
     "language": "python",
     "metadata": {},
     "outputs": [],
     "prompt_number": 7
    },
    {
     "cell_type": "code",
     "collapsed": false,
     "input": [
      "#set of parameters alpha and beta\n",
      "a = 1.\n",
      "b = 1.\n",
      "N = 50\n",
      "\n",
      "#definition of Psi functions\n",
      "z = sp.Symbol('z')\n",
      "psi1 = z\n",
      "psi2 = z\n",
      "\n",
      "#derivatives and lamdify of Psi1\n",
      "d1psi1 = sp.diff(psi1,z)\n",
      "d2psi1 = sp.diff(d1psi1,z)\n",
      "d1psi1 = sp.lambdify(z, d1psi1, modules='numpy')\n",
      "d2psi1 = sp.lambdify(z, d2psi1, modules='numpy')\n",
      "\n",
      "#derivatives and lamdify of Psi2\n",
      "d1psi2 = sp.diff(psi2,z)\n",
      "d2psi2 = sp.diff(d1psi2,z)\n",
      "d3psi2 = sp.diff(d2psi2,z)\n",
      "d1psi2 = sp.lambdify(z, d1psi2, modules='numpy')\n",
      "d2psi2 = sp.lambdify(z, d2psi2, modules='numpy')\n",
      "d3psi2 = sp.lambdify(z, d3psi2, modules='numpy')"
     ],
     "language": "python",
     "metadata": {},
     "outputs": [],
     "prompt_number": 8
    },
    {
     "cell_type": "code",
     "collapsed": false,
     "input": [
      "#load of image\n",
      "f = misc.imread('data50.png').astype(np.float).ravel()"
     ],
     "language": "python",
     "metadata": {},
     "outputs": [],
     "prompt_number": 9
    },
    {
     "cell_type": "code",
     "collapsed": false,
     "input": [
      "#load matrices\n",
      "phi_m = np.load('phi_m.npy')\n",
      "phix_m = np.load('phix_m.npy')\n",
      "phiy_m = np.load('phiy_m.npy')\n",
      "phixx_m = np.load('phixx_m.npy')\n",
      "phixy_m = np.load('phixy_m.npy')\n",
      "#phiyx_m = np.empty((N**2,N**2)) \n",
      "phiyy_m = np.load('phiyy_m.npy')\n",
      "phixxx_m = np.load('phixxx_m.npy')\n",
      "phixxy_m = np.load('phixxy_m.npy')\n",
      "phiyyx_m = np.load('phiyyx_m.npy')\n",
      "phiyyy_m = np.load('phiyyy_m.npy')\n",
      "phixxxx_m = np.load('phixxxx_m.npy')\n",
      "phixxyy_m = np.load('phixxyy_m.npy')\n",
      "phiyyxx_m = np.load('phiyyxx_m.npy')\n",
      "phiyyyy_m = np.load('phiyyyy_m.npy')"
     ],
     "language": "python",
     "metadata": {},
     "outputs": [],
     "prompt_number": 10
    },
    {
     "cell_type": "code",
     "collapsed": false,
     "input": [
      "# solve the system dc/dt = F(c, t)\n",
      "def F(c):\n",
      "    u = np.dot(phi_m, c)\n",
      "    ux = np.dot(phix_m, c)\n",
      "    uy = np.dot(phiy_m, c)\n",
      "    uxx = np.dot(phixx_m, c)\n",
      "    uxy = np.dot(phixy_m, c)\n",
      "    uyx = uxy\n",
      "    uyy = np.dot(phiyy_m, c)\n",
      "    uxxx = np.dot(phixxx_m, c)\n",
      "    uxxy = np.dot(phixxy_m, c)\n",
      "    uyyx = np.dot(phiyyx_m, c)\n",
      "    uyyy = np.dot(phiyyy_m, c)\n",
      "    uxxxx = np.dot(phixxxx_m, c)\n",
      "    uxxyy = np.dot(phixxyy_m, c)\n",
      "    uyyxx = np.dot(phiyyxx_m, c)\n",
      "    uyyyy = np.dot(phiyyyy_m, c)\n",
      "    \n",
      "    #computation of recurrent expresions are indicated with _tmpx\n",
      "    \n",
      "    #first term\n",
      "    EL1 = 2*(u-f)\n",
      "    \n",
      "    #second and third term\n",
      "    _tmp1 = ux**2 + uy**2\n",
      "    _tmp2 = ux*uxx\n",
      "    _tmp3 = d1psi1(_tmp1)\n",
      "    _tmp4 = d2psi1(_tmp1)\n",
      "    EL2 = 2*a*(2*ux*(_tmp2 + uy*uyx)*_tmp4 + uxx*_tmp3)\n",
      "    EL3 = 2*a*(2*uy*(_tmp2 + uy*uyy)*_tmp4 + uyy*_tmp3)\n",
      "               \n",
      "    #last terms\n",
      "    _tmp5 = d1psi2(_tmp1)\n",
      "    _tmp6 = d2psi2(_tmp1)\n",
      "    _tmp7 = d3psi2(_tmp1)\n",
      "    _tmp8 = uxx + uyy\n",
      "    EL4 = 2*b*(4*(uxxx + uyyx)*(uxx*uxxx + uyy*uyyx)*_tmp6 + (uxxxx + uyyxx)*_tmp5 + _tmp8*(4*(uxx*uxxx + uyy*uyyx)**2 *_tmp7 \n",
      "        + 2*(uxxx**2 + uxx*uxxxx + uyyx**2 + uyy*uyyxx)*_tmp6))\n",
      "    EL5 = 2*b*(4*(uxxy + uyyy)*(uxx*uxxy + uyy*uyyy)*_tmp6 + (uxxyy + uyyyy)*_tmp5 + _tmp8*(4*(uxx*uxxy + uyy*uyyy)**2 *_tmp7 \n",
      "        + 2*(uxxy**2 + uxx*uxxyy + uyyy**2 + uyy*uyyyy)*_tmp6))\n",
      "    \n",
      "    return EL1 - EL2 - EL3 + EL4 + EL5"
     ],
     "language": "python",
     "metadata": {},
     "outputs": [],
     "prompt_number": 14
    },
    {
     "cell_type": "code",
     "collapsed": false,
     "input": [
      "c = np.random.random(2500)\n",
      "%timeit F(c,0)"
     ],
     "language": "python",
     "metadata": {},
     "outputs": [
      {
       "output_type": "stream",
       "stream": "stdout",
       "text": [
        "10 loops, best of 3: 135 ms per loop\n"
       ]
      }
     ],
     "prompt_number": 12
    },
    {
     "cell_type": "code",
     "collapsed": false,
     "input": [
      "\"\"\" First approach: F(c(t))=c'(t) \"\"\"\n",
      "\n",
      "# initial condition vector\n",
      "c0 = np.ones(N**2)\n",
      "c0 *= 10\n",
      "\n",
      "# time grid\n",
      "t  = np.linspace(0., .5, 100)\n",
      "\n",
      "#solve it!\n",
      "nsol,info = odeint(F, c0, t, full_output=1)"
     ],
     "language": "python",
     "metadata": {},
     "outputs": [
      {
       "output_type": "stream",
       "stream": "stdout",
       "text": [
        "Excess work done on this call (perhaps wrong Dfun type).\n",
        "Run with full_output = 1 to get quantitative information.\n"
       ]
      }
     ],
     "prompt_number": 11
    },
    {
     "cell_type": "code",
     "collapsed": false,
     "input": [
      "csol = nsol[-1,:]\n",
      "print info\n",
      "print np.sum(csol)\n",
      "print csol"
     ],
     "language": "python",
     "metadata": {},
     "outputs": [
      {
       "output_type": "stream",
       "stream": "stdout",
       "text": [
        "0.0\n",
        "[[  1.00000000e+01   1.00000000e+01   1.00000000e+01 ...,   1.00000000e+01\n",
        "    1.00000000e+01   1.00000000e+01]\n",
        " [  5.02610853e+15   6.50578268e+15   2.83689787e+15 ...,   2.83689714e+15\n",
        "    6.50578260e+15   5.02610894e+15]\n",
        " [  0.00000000e+00   0.00000000e+00   0.00000000e+00 ...,   0.00000000e+00\n",
        "    0.00000000e+00   0.00000000e+00]\n",
        " ..., \n",
        " [  0.00000000e+00   0.00000000e+00   0.00000000e+00 ...,   0.00000000e+00\n",
        "    0.00000000e+00   0.00000000e+00]\n",
        " [  0.00000000e+00   0.00000000e+00   0.00000000e+00 ...,   0.00000000e+00\n",
        "    0.00000000e+00   0.00000000e+00]\n",
        " [  0.00000000e+00   0.00000000e+00   0.00000000e+00 ...,   0.00000000e+00\n",
        "    0.00000000e+00   0.00000000e+00]]\n",
        "[ 0.  0.  0. ...,  0.  0.  0.]\n"
       ]
      }
     ],
     "prompt_number": 13
    },
    {
     "cell_type": "code",
     "collapsed": false,
     "input": [
      "\"\"\" Second approach: Nonlinear solver \"\"\"\n",
      "\n",
      "# initial condition vector\n",
      "c0 = np.ones(N**2)\n",
      "\n",
      "#solve it!\n",
      "csol = fsolve(F, c0)"
     ],
     "language": "python",
     "metadata": {},
     "outputs": []
    },
    {
     "cell_type": "code",
     "collapsed": false,
     "input": [
      "#plot of new image\n",
      "new_img = np.dot(phi_m, csol)\n",
      "new_img = new_img.reshape((N,N))\n",
      "new_img = new_img.astype(np.uint8)\n",
      "plt.axis('off')\n",
      "plt.imshow(new_img)\n",
      "plt.show()"
     ],
     "language": "python",
     "metadata": {},
     "outputs": [
      {
       "metadata": {},
       "output_type": "display_data",
       "png": "[encoded data removed]",
       "text": [
        "<matplotlib.figure.Figure at 0x7f3992f8abd0>"
       ]
      }
     ],
     "prompt_number": 13
    },
    {
     "cell_type": "code",
     "collapsed": false,
     "input": [],
     "language": "python",
     "metadata": {},
     "outputs": []
    }
   ],
   "metadata": {}
  }
 ]
}